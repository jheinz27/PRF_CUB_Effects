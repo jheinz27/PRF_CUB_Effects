{
 "cells": [
  {
   "cell_type": "markdown",
   "id": "2009dccb-453d-447f-aa33-596674588242",
   "metadata": {},
   "source": [
    "verify the relative adaptaion values of yeast to the ones gotten off the internet by calcualing through all \n",
    "single exon genes in yeast. Did use gencode annotation, which i think is fine- its not as butt checks as in human bc yeast is an easy annoton. I can try to use refseq at some point I suppose \n",
    "### turn this into .py file there is no need for this to be a notebook"
   ]
  },
  {
   "cell_type": "code",
   "execution_count": 13,
   "id": "b983571d-39c0-4910-8e3d-3af7455257f9",
   "metadata": {},
   "outputs": [],
   "source": [
    "#get aminoacid conversions from https://raw.githubusercontent.com/zhanxw/anno/master/codon.txt \n",
    "dict_aa = {}\n",
    "with open('codon.txt', 'r') as f: \n",
    "    for line in f: \n",
    "        if not line.startswith('#'):\n",
    "            s = line.strip().split('\\t')\n",
    "           \n",
    "            dict_aa[s[0]] = s[2] "
   ]
  },
  {
   "cell_type": "code",
   "execution_count": 14,
   "id": "e1cdca7a-b550-4b16-8415-bd9d92af9dc2",
   "metadata": {},
   "outputs": [
    {
     "name": "stdout",
     "output_type": "stream",
     "text": [
      "{'ATG': 58319, 'GTC': 31199, 'AAA': 119077, 'TTA': 73727, 'ACT': 55792, 'TCA': 53284, 'ATC': 47074, 'GCC': 34213, 'GCT': 56137, 'GGT': 62572, 'TCT': 65370, 'GCA': 45505, 'ACC': 34256, 'CTA': 37816, 'CAA': 75613, 'GAC': 56179, 'GAA': 127732, 'AGA': 58040, 'AAC': 68708, 'TTG': 74420, 'GTG': 30503, 'TAC': 40294, 'GAT': 106707, 'CAC': 21306, 'TTC': 50216, 'CCA': 49413, 'GTT': 60105, 'ATT': 84404, 'TGG': 29094, 'TCC': 39429, 'AGC': 28141, 'AAG': 84763, 'AGT': 40756, 'ATA': 50779, 'GGG': 17343, 'CCG': 15251, 'AGG': 26918, 'TGC': 13444, 'CTT': 34346, 'CCC': 19442, 'TTT': 74068, 'CCT': 37892, 'ACA': 50560, 'TCG': 24587, 'AAT': 102768, 'CGA': 8469, 'CGT': 17190, 'TAT': 53212, 'TGT': 22154, 'CTG': 30097, 'CGG': 5132, 'CAT': 38700, 'CTC': 15375, 'GGA': 31307, 'GTA': 33579, 'GAG': 54985, 'CAG': 34982, 'ACG': 22983, 'GGC': 27577, 'GCG': 17591, 'CGC': 7458}\n",
      "{'ATG': 1.0, 'GTC': 0.519074952167041, 'AAA': 1.0, 'TTA': 0.9906879871002419, 'ACT': 1.0, 'TCA': 0.8151139666513691, 'ATC': 0.5577223828254585, 'GCC': 0.6094554393715375, 'GCT': 1.0, 'GGT': 1.0, 'TCT': 1.0, 'GCA': 0.8106061955572973, 'ACC': 0.6139948379696014, 'CTA': 0.508142972319269, 'CAA': 1.0, 'GAC': 0.5264790501091775, 'GAA': 1.0, 'AGA': 1.0, 'AAC': 0.6685738751362291, 'TTG': 1.0, 'GTG': 0.5074952167041011, 'TAC': 0.7572352101029843, 'GAT': 1.0, 'CAC': 0.5505426356589147, 'TTC': 0.677971593670681, 'CCA': 1.0, 'GTT': 1.0, 'ATT': 1.0, 'TGG': 1.0, 'TCC': 0.6031665901789812, 'AGC': 0.43048799143337924, 'AAG': 0.7118335194873905, 'AGT': 0.6234664219060732, 'ATA': 0.6016184067105824, 'GGG': 0.27716870165569263, 'CCG': 0.30864347438933076, 'AGG': 0.46378359751895243, 'TGC': 0.6068430080346664, 'CTT': 0.46151572158022036, 'CCC': 0.39345921113876914, 'TTT': 1.0, 'CCT': 0.7668427336935624, 'ACA': 0.9062231144250071, 'TCG': 0.37612054459232064, 'AAT': 1.0, 'CGA': 0.14591660923501035, 'CGT': 0.2961750516884907, 'TAT': 1.0, 'TGT': 1.0, 'CTG': 0.4044208546089761, 'CGG': 0.08842177808407994, 'CAT': 1.0, 'CTC': 0.20659768879333512, 'GGA': 0.5003356133733938, 'GTA': 0.5586723234339905, 'GAG': 0.4304716124385432, 'CAG': 0.46264531231402006, 'ACG': 0.4119407800401491, 'GGC': 0.44072428562296234, 'GCG': 0.3133583910789675, 'CGC': 0.1284975878704342}\n"
     ]
    }
   ],
   "source": [
    "stopcodons = ['TAA', 'TAG', 'TGA']\n",
    "codon_dict = {}\n",
    "\n",
    "\n",
    "with open('yeast_gencode_single_exon.fa', 'r') as f:\n",
    "    for line in f: \n",
    "        if not line.startswith('>'): \n",
    "            seq = line.strip().upper()\n",
    "\n",
    "            #iterate through sequence in 3's to grap new codon\n",
    "            i = 0\n",
    "            while (i+3) < len(seq):\n",
    "\n",
    "                codon = seq[i:i + 3]\n",
    "                #increment frequency of codon appearances by one\n",
    "                if codon in stopcodons: \n",
    "                    break\n",
    "\n",
    "                if codon not in codon_dict.keys():\n",
    "                    codon_dict[codon] = 1\n",
    "                else:\n",
    "                    codon_dict[codon] += 1\n",
    "                i += 3\n",
    "print(codon_dict)\n",
    "\n",
    "#get total counts of codons and divide count of every occurrence of a codon by tot\n",
    "\n",
    "maxes = {} \n",
    "for k in codon_dict.keys():\n",
    "    aa = dict_aa[k]\n",
    "    if aa in maxes.keys(): \n",
    "        val = maxes[aa] \n",
    "        if codon_dict[k] > val: \n",
    "            maxes[aa] = codon_dict[k]\n",
    "    else: \n",
    "        maxes[aa] = codon_dict[k]\n",
    "\n",
    "rels = {}\n",
    "for k in codon_dict.keys(): \n",
    "    #relative adaptiveness this should be for all codons in the species not just the sequence?\n",
    "    rel = codon_dict[k] / maxes[dict_aa[k]]\n",
    "    rels[k] = rel\n",
    "print(rels) \n",
    "        \n",
    "\n",
    "\n"
   ]
  },
  {
   "cell_type": "code",
   "execution_count": 15,
   "id": "766fb337-e79e-4a07-8a15-282ce22dee63",
   "metadata": {},
   "outputs": [],
   "source": [
    "#read in relative adaptive values from https://www.biologicscorp.com/tools/CAICalculator/ \n",
    "rel_weights = {} \n",
    "with open('yeast_rel_adapt_adj.txt', 'r') as f: \n",
    "    for line in f: \n",
    "        s = line.strip().split('\\t')\n",
    "        rel_weights[s[0]] = float(s[4])        "
   ]
  },
  {
   "cell_type": "code",
   "execution_count": 29,
   "id": "897a96bd-e9dd-45d8-bfec-996a0016fd3c",
   "metadata": {},
   "outputs": [],
   "source": [
    "#compare calculated values \n",
    "\n",
    "with open('compare_rel_adapt_scores.txt', 'w') as out: \n",
    "    out.write(\"#codon\\tonline\\tself\\tonline/self\\n\")\n",
    "    for k in rels:\n",
    "        out.write(k + '\\t' + str(rel_weights[k]) + '\\t' + str(round(rels[k], 4)) + '\\t' + str(round(rel_weights[k] / rels[k], 4)) + '\\n')"
   ]
  },
  {
   "cell_type": "code",
   "execution_count": 19,
   "id": "b83cd8c6-e791-4fc5-8171-308289cb2ada",
   "metadata": {},
   "outputs": [
    {
     "name": "stdout",
     "output_type": "stream",
     "text": [
      "64\n"
     ]
    }
   ],
   "source": []
  },
  {
   "cell_type": "code",
   "execution_count": 25,
   "id": "553db901-ac47-4dba-b750-1d544a3dadfe",
   "metadata": {},
   "outputs": [
    {
     "name": "stdout",
     "output_type": "stream",
     "text": [
      "#codon\tonline\tself\tonline/self\n"
     ]
    }
   ],
   "source": []
  },
  {
   "cell_type": "code",
   "execution_count": null,
   "id": "bdebc932-90b0-4a69-8729-a1089f35bb74",
   "metadata": {},
   "outputs": [],
   "source": []
  }
 ],
 "metadata": {
  "kernelspec": {
   "display_name": "Python 3 (ipykernel)",
   "language": "python",
   "name": "python3"
  },
  "language_info": {
   "codemirror_mode": {
    "name": "ipython",
    "version": 3
   },
   "file_extension": ".py",
   "mimetype": "text/x-python",
   "name": "python",
   "nbconvert_exporter": "python",
   "pygments_lexer": "ipython3",
   "version": "3.9.7"
  }
 },
 "nbformat": 4,
 "nbformat_minor": 5
}
